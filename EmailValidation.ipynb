{
 "metadata": {
  "language_info": {
   "codemirror_mode": {
    "name": "ipython",
    "version": 3
   },
   "file_extension": ".py",
   "mimetype": "text/x-python",
   "name": "python",
   "nbconvert_exporter": "python",
   "pygments_lexer": "ipython3",
   "version": "3.9.6"
  },
  "orig_nbformat": 4,
  "kernelspec": {
   "name": "python3",
   "display_name": "Python 3.9.6 64-bit"
  },
  "interpreter": {
   "hash": "e965bf5714937749202af5ef1e0109fd9e0d77d7ccde2d0fac82e52b9723022b"
  }
 },
 "nbformat": 4,
 "nbformat_minor": 2,
 "cells": [
  {
   "cell_type": "code",
   "execution_count": 1,
   "metadata": {},
   "outputs": [
    {
     "output_type": "stream",
     "name": "stdout",
     "text": [
      "invalid\n",
      "invalid\n",
      "invalid\n"
     ]
    }
   ],
   "source": [
    "import re\n",
    "userinput = input(\"enter your email\")\n",
    "check = re.search(\"^\\S+\\@+\\S+\\.[a-z]{2,3}$\", userinput)\n",
    "if check :\n",
    "    print(\"valid\")\n",
    "else :\n",
    "    print(\"invalid\")\")"
   ]
  },
  {
   "cell_type": "code",
   "execution_count": 4,
   "metadata": {},
   "outputs": [
    {
     "output_type": "stream",
     "name": "stdout",
     "text": [
      "invalid\n"
     ]
    }
   ],
   "source": [
    "import re\n",
    "userinput = input(\"enter a valid email address\")\n",
    "pattern = \"^\\S+\\@+\\S+\\.[a-z]{2,3}$\"\n",
    "result = re.match(pattern, userinput)\n",
    "print(\"valid\") if result else print(\"invalid\")"
   ]
  }
 ]
}